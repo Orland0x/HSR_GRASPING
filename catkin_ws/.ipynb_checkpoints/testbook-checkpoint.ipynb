{
 "cells": [
  {
   "cell_type": "code",
   "execution_count": 1,
   "metadata": {},
   "outputs": [
    {
     "name": "stdout",
     "output_type": "stream",
     "text": [
      "/home/orlandothefraser/robot-grasp-detection_git\n"
     ]
    }
   ],
   "source": [
    "#!/usr/bin/python\n",
    "# -*- coding: utf-8 -*-\n",
    "\n",
    "#Restart kernel before running imports\n",
    "\n",
    "import hsrb_interface\n",
    "import rospy\n",
    "import sys\n",
    "from hsrb_interface import geometry\n",
    "import cv2\n",
    "from cv_bridge import CvBridge, CvBridgeError\n",
    "import matplotlib.pyplot as plt\n",
    "from sensor_msgs.msg import Image\n",
    "import HF #helper functions/classes\n",
    "import os\n",
    "import csv\n",
    "import numpy as np\n",
    " \n",
    "\n",
    "\n",
    "#setting root directory to the parent directory of the catkin workspace \n",
    "path = os.getcwd()\n",
    "ROOT_DIR = os.path.abspath(os.path.join(path, os.pardir))\n",
    "os.chdir(ROOT_DIR)\n",
    "print(ROOT_DIR)\n"
   ]
  },
  {
   "cell_type": "code",
   "execution_count": 2,
   "metadata": {},
   "outputs": [],
   "source": [
    "#ititializing HSR python API\n",
    "robot = hsrb_interface.Robot()\n",
    "omni_base = robot.get('omni_base')\n",
    "whole_body = robot.get('whole_body')\n",
    "gripper = robot.get('gripper')\n",
    "tts = robot.get('default_tts')"
   ]
  },
  {
   "cell_type": "code",
   "execution_count": 3,
   "metadata": {},
   "outputs": [],
   "source": [
    "#Setting the initial position of the arm and hand\n",
    "whole_body.move_to_go()\n",
    "whole_body.move_to_joint_positions({'arm_lift_joint': 0.4, 'arm_flex_joint': -1.57, 'arm_roll_joint': 0, 'wrist_roll_joint': -1.57})\n",
    "gripper.command(1.2)"
   ]
  },
  {
   "cell_type": "code",
   "execution_count": 1,
   "metadata": {},
   "outputs": [
    {
     "ename": "NameError",
     "evalue": "global name 'hsrb_interface' is not defined",
     "output_type": "error",
     "traceback": [
      "\u001b[0;31m---------------------------------------------------------------------------\u001b[0m",
      "\u001b[0;31mNameError\u001b[0m                                 Traceback (most recent call last)",
      "\u001b[0;32m<ipython-input-1-285071ad633a>\u001b[0m in \u001b[0;36m<module>\u001b[0;34m()\u001b[0m\n\u001b[1;32m     79\u001b[0m \u001b[0;34m\u001b[0m\u001b[0m\n\u001b[1;32m     80\u001b[0m \u001b[0;32mif\u001b[0m \u001b[0m__name__\u001b[0m \u001b[0;34m==\u001b[0m \u001b[0;34m'__main__'\u001b[0m\u001b[0;34m:\u001b[0m\u001b[0;34m\u001b[0m\u001b[0m\n\u001b[0;32m---> 81\u001b[0;31m     \u001b[0mmain\u001b[0m\u001b[0;34m(\u001b[0m\u001b[0;34m)\u001b[0m\u001b[0;34m\u001b[0m\u001b[0m\n\u001b[0m\u001b[1;32m     82\u001b[0m \u001b[0;34m\u001b[0m\u001b[0m\n",
      "\u001b[0;32m<ipython-input-1-285071ad633a>\u001b[0m in \u001b[0;36mmain\u001b[0;34m()\u001b[0m\n\u001b[1;32m      1\u001b[0m \u001b[0;32mdef\u001b[0m \u001b[0mmain\u001b[0m\u001b[0;34m(\u001b[0m\u001b[0;34m)\u001b[0m\u001b[0;34m:\u001b[0m\u001b[0;34m\u001b[0m\u001b[0m\n\u001b[1;32m      2\u001b[0m \u001b[0;34m\u001b[0m\u001b[0m\n\u001b[0;32m----> 3\u001b[0;31m     \u001b[0mrobot\u001b[0m \u001b[0;34m=\u001b[0m \u001b[0mhsrb_interface\u001b[0m\u001b[0;34m.\u001b[0m\u001b[0mRobot\u001b[0m\u001b[0;34m(\u001b[0m\u001b[0;34m)\u001b[0m\u001b[0;34m\u001b[0m\u001b[0m\n\u001b[0m\u001b[1;32m      4\u001b[0m     \u001b[0momni_base\u001b[0m \u001b[0;34m=\u001b[0m \u001b[0mrobot\u001b[0m\u001b[0;34m.\u001b[0m\u001b[0mget\u001b[0m\u001b[0;34m(\u001b[0m\u001b[0;34m'omni_base'\u001b[0m\u001b[0;34m)\u001b[0m\u001b[0;34m\u001b[0m\u001b[0m\n\u001b[1;32m      5\u001b[0m     \u001b[0mwhole_body\u001b[0m \u001b[0;34m=\u001b[0m \u001b[0mrobot\u001b[0m\u001b[0;34m.\u001b[0m\u001b[0mget\u001b[0m\u001b[0;34m(\u001b[0m\u001b[0;34m'whole_body'\u001b[0m\u001b[0;34m)\u001b[0m\u001b[0;34m\u001b[0m\u001b[0m\n",
      "\u001b[0;31mNameError\u001b[0m: global name 'hsrb_interface' is not defined"
     ]
    }
   ],
   "source": [
    "def main():\n",
    "    \n",
    "    robot = hsrb_interface.Robot()\n",
    "    omni_base = robot.get('omni_base')\n",
    "    whole_body = robot.get('whole_body')\n",
    "    gripper = robot.get('gripper')\n",
    "    tts = robot.get('default_tts')\n",
    "\n",
    "    \n",
    "    #rospy.init_node('hand_camera')\n",
    "    try:\n",
    "        hand_camera = HF.HandCameraImage()\n",
    "        spin_rate = rospy.Rate(30)\n",
    "\n",
    "        rgb_image = hand_camera._rgb_image\n",
    "        plt.imsave('./MiDaS/input/rgb.png',rgb_image)\n",
    "        #cv2.imshow(\"Hand Camera Image\", rgb_image)\n",
    "            \n",
    "        #Produce depth from rgb image\n",
    "        ! python ./MiDaS/run.py\n",
    "        #Produce grasp from depth\n",
    "        #os.chdir('/home/orlandothefraser/catkin_ws')\n",
    "        ! python ./ggcnn/Depth2Grasp.py --network ./ggcnn/ggcnn_weights_cornell/ggcnn_epoch_23_cornell --input_depth_path ./MiDaS/output/rgb.png --input_rgb_path ./MiDaS/input/rgb.png --vis \n",
    "            \n",
    "        g = HF.get_grasp('./catkin_ws/GraspOutput.csv')\n",
    "            \n",
    "        pos_error = g[0:3]\n",
    "            \n",
    "        step_vector = pos_error\n",
    "    \n",
    "        distance = (step_vector[0]**2+step_vector[1]**2)**0.5\n",
    "        direction = (1/distance)*step_vector\n",
    "            \n",
    "        whole_body.move_end_effector_by_line((direction[1], direction[0], 0), distance)\n",
    "            \n",
    "        current_ang = 0\n",
    "        ang_change = g[3]\n",
    "        new_ang = current_ang - ang_change\n",
    "        whole_body.move_to_joint_positions({'wrist_roll_joint': new_ang})\n",
    "            \n",
    "            \n",
    "        rgb_image = hand_camera._rgb_image\n",
    "        plt.imsave('./MiDaS/input/rgb.png',rgb_image)\n",
    "        #cv2.imshow(\"Hand Camera Image\", rgb_image)\n",
    "            \n",
    "        #Produce depth from rgb image\n",
    "        ! python ./MiDaS/run.py\n",
    "        #Produce grasp from depth\n",
    "        ! python ./ggcnn/Depth2Grasp.py --network ./ggcnn/ggcnn_weights_cornell/ggcnn_epoch_23_cornell --input_depth_path ./MiDaS/output/rgb.png --input_rgb_path ./MiDaS/input/rgb.png --vis\n",
    "            \n",
    "        g = HF.get_grasp('./catkin_ws/GraspOutput.csv')\n",
    "            \n",
    "        pos_error = g[0:3]\n",
    "        \n",
    "        #we dont want to go the entire way as there needs to be space for the object. 0.7 worked fairly wel\n",
    "        step_vector = 0.7*pos_error\n",
    "    \n",
    "        distance = (step_vector[0]**2+step_vector[1]**2+step_vector[2]**2)**0.5\n",
    "        direction = (1/distance)*step_vector\n",
    "            \n",
    "        whole_body.move_end_effector_by_line((direction[1], direction[0], direction[2]), distance)\n",
    "            \n",
    "        #width - add 1mm each side\n",
    "        #gripper_width= g[4]+0.01\n",
    "        #gripper.set_distance(gripper_width)\n",
    "            \n",
    "        gripper.apply_force(1.0)\n",
    "            \n",
    "        whole_body.move_to_joint_positions({'arm_lift_joint': 0.5})\n",
    "            \n",
    "        #cv2.waitKey(3)\n",
    "        #spin_rate.sleep()\n",
    "            \n",
    "\n",
    "    except rospy.ROSException as wait_for_msg_exception:\n",
    "        rospy.logerr(wait_for_msg_exception)\n",
    "\n",
    "    cv2.destroyAllWindows()\n",
    "\n",
    "if __name__ == '__main__':\n",
    "    main()\n",
    "    \n"
   ]
  },
  {
   "cell_type": "code",
   "execution_count": null,
   "metadata": {},
   "outputs": [],
   "source": []
  },
  {
   "cell_type": "code",
   "execution_count": null,
   "metadata": {},
   "outputs": [],
   "source": []
  }
 ],
 "metadata": {
  "kernelspec": {
   "display_name": "Python 2",
   "language": "python",
   "name": "python2"
  },
  "language_info": {
   "codemirror_mode": {
    "name": "ipython",
    "version": 2
   },
   "file_extension": ".py",
   "mimetype": "text/x-python",
   "name": "python",
   "nbconvert_exporter": "python",
   "pygments_lexer": "ipython2",
   "version": "2.7.18"
  }
 },
 "nbformat": 4,
 "nbformat_minor": 2
}

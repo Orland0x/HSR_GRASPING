{
 "cells": [
  {
   "cell_type": "code",
   "execution_count": 2,
   "metadata": {},
   "outputs": [
    {
     "name": "stdout",
     "output_type": "stream",
     "text": [
      "/home/orlandothefraser/robot-grasp-detection_git\n"
     ]
    }
   ],
   "source": [
    "#!/usr/bin/python\n",
    "# -*- coding: utf-8 -*-\n",
    "\n",
    "#Restart kernel before running imports\n",
    "\n",
    "import hsrb_interface\n",
    "import rospy\n",
    "import sys\n",
    "from hsrb_interface import geometry\n",
    "import cv2\n",
    "from cv_bridge import CvBridge, CvBridgeError\n",
    "import matplotlib.pyplot as plt\n",
    "from sensor_msgs.msg import Image\n",
    "import HF #helper functions/classes\n",
    "import os\n",
    "import csv\n",
    "import numpy as np\n",
    " \n",
    "\n",
    "\n",
    "#setting root directory to the parent directory of the catkin workspace \n",
    "path = os.getcwd()\n",
    "ROOT_DIR = os.path.abspath(os.path.join(path, os.pardir))\n",
    "os.chdir(ROOT_DIR)\n",
    "print(ROOT_DIR)\n"
   ]
  },
  {
   "cell_type": "code",
   "execution_count": 3,
   "metadata": {},
   "outputs": [],
   "source": [
    "#ititializing HSR python API\n",
    "robot = hsrb_interface.Robot()\n",
    "omni_base = robot.get('omni_base')\n",
    "whole_body = robot.get('whole_body')\n",
    "gripper = robot.get('gripper')\n",
    "tts = robot.get('default_tts')"
   ]
  },
  {
   "cell_type": "code",
   "execution_count": 3,
   "metadata": {},
   "outputs": [],
   "source": [
    "#Setting the initial position of the arm and hand\n",
    "whole_body.move_to_go()\n",
    "whole_body.move_to_joint_positions({'arm_lift_joint': 0.4, 'arm_flex_joint': -1.57, 'arm_roll_joint': 0, 'wrist_roll_joint': -1.57})\n",
    "gripper.command(1.2)"
   ]
  },
  {
   "cell_type": "code",
   "execution_count": 4,
   "metadata": {},
   "outputs": [],
   "source": [
    "class HandCameraImage(object):\n",
    "    def __init__(self):\n",
    "        \n",
    "        topic_name = \"/hsrb/hand_camera/image_raw\"\n",
    "        self._bridge = CvBridge()\n",
    "        self._rgb_image = None\n",
    "        self._depth_image = None\n",
    "\n",
    "        # Subscribe to hand camera topic\n",
    "        self._image_sub = rospy.Subscriber(\n",
    "            topic_name, Image, self.Image_CallBack)\n",
    "        # Wait until connection\n",
    "        rospy.wait_for_message(topic_name, Image, timeout=5.0)\n",
    "        \n",
    "    def Image_CallBack(self, data):\n",
    "        try:\n",
    "            self._rgb_image = self._bridge.imgmsg_to_cv2(data, \"bgr8\")\n",
    "        except CvBridgeError as cv_bridge_exception:\n",
    "            rospy.logerr(cv_bridge_exception)"
   ]
  },
  {
   "cell_type": "code",
   "execution_count": 5,
   "metadata": {
    "scrolled": true
   },
   "outputs": [
    {
     "name": "stdout",
     "output_type": "stream",
     "text": [
      "initialize\n",
      "device: cpu\n",
      "Loading weights:  ./MiDaS/model-f46da743.pt\n",
      "Using cache found in /home/orlandothefraser/.cache/torch/hub/facebookresearch_WSL-Images_master\n",
      "start processing\n",
      "  processing ./MiDaS/input/rgb.png (1/1)\n",
      "finished\n",
      "18.5416059494\n",
      "/home/orlandothefraser/anaconda3/lib/python3.7/site-packages/torch/serialization.py:593: SourceChangeWarning: source code of class 'torch.nn.modules.conv.Conv2d' has changed. you can retrieve the original source code by accessing the object's source attribute or set `torch.nn.Module.dump_patches = True` and use the patch tool to revert the changes.\n",
      "  warnings.warn(msg, SourceChangeWarning)\n",
      "/home/orlandothefraser/anaconda3/lib/python3.7/site-packages/torch/serialization.py:593: SourceChangeWarning: source code of class 'torch.nn.modules.conv.ConvTranspose2d' has changed. you can retrieve the original source code by accessing the object's source attribute or set `torch.nn.Module.dump_patches = True` and use the patch tool to revert the changes.\n",
      "  warnings.warn(msg, SourceChangeWarning)\n",
      "INFO:root:Done\n",
      "8.94309806824\n",
      "initialize\n",
      "device: cpu\n",
      "Loading weights:  ./MiDaS/model-f46da743.pt\n",
      "Using cache found in /home/orlandothefraser/.cache/torch/hub/facebookresearch_WSL-Images_master\n",
      "start processing\n",
      "  processing ./MiDaS/input/rgb.png (1/1)\n",
      "finished\n",
      "/home/orlandothefraser/anaconda3/lib/python3.7/site-packages/torch/serialization.py:593: SourceChangeWarning: source code of class 'torch.nn.modules.conv.Conv2d' has changed. you can retrieve the original source code by accessing the object's source attribute or set `torch.nn.Module.dump_patches = True` and use the patch tool to revert the changes.\n",
      "  warnings.warn(msg, SourceChangeWarning)\n",
      "/home/orlandothefraser/anaconda3/lib/python3.7/site-packages/torch/serialization.py:593: SourceChangeWarning: source code of class 'torch.nn.modules.conv.ConvTranspose2d' has changed. you can retrieve the original source code by accessing the object's source attribute or set `torch.nn.Module.dump_patches = True` and use the patch tool to revert the changes.\n",
      "  warnings.warn(msg, SourceChangeWarning)\n",
      "INFO:root:Done\n"
     ]
    },
    {
     "ename": "IndexError",
     "evalue": "list index out of range",
     "output_type": "error",
     "traceback": [
      "\u001b[0;31m---------------------------------------------------------------------------\u001b[0m",
      "\u001b[0;31mIndexError\u001b[0m                                Traceback (most recent call last)",
      "\u001b[0;32m<ipython-input-5-1b0b2d9a91ed>\u001b[0m in \u001b[0;36m<module>\u001b[0;34m()\u001b[0m\n\u001b[1;32m     87\u001b[0m \u001b[0;34m\u001b[0m\u001b[0m\n\u001b[1;32m     88\u001b[0m \u001b[0;32mif\u001b[0m \u001b[0m__name__\u001b[0m \u001b[0;34m==\u001b[0m \u001b[0;34m'__main__'\u001b[0m\u001b[0;34m:\u001b[0m\u001b[0;34m\u001b[0m\u001b[0m\n\u001b[0;32m---> 89\u001b[0;31m     \u001b[0mmain\u001b[0m\u001b[0;34m(\u001b[0m\u001b[0;34m)\u001b[0m\u001b[0;34m\u001b[0m\u001b[0m\n\u001b[0m\u001b[1;32m     90\u001b[0m \u001b[0;34m\u001b[0m\u001b[0m\n",
      "\u001b[0;32m<ipython-input-5-1b0b2d9a91ed>\u001b[0m in \u001b[0;36mmain\u001b[0;34m()\u001b[0m\n\u001b[1;32m     55\u001b[0m         \u001b[0mget_ipython\u001b[0m\u001b[0;34m(\u001b[0m\u001b[0;34m)\u001b[0m\u001b[0;34m.\u001b[0m\u001b[0msystem\u001b[0m\u001b[0;34m(\u001b[0m\u001b[0;34mu' python ./ggcnn/Depth2Grasp.py --network ./ggcnn/ggcnn_weights_cornell/ggcnn_epoch_23_cornell --input_depth_path ./MiDaS/output/rgb.png --input_rgb_path ./MiDaS/input/rgb.png --vis'\u001b[0m\u001b[0;34m)\u001b[0m\u001b[0;34m\u001b[0m\u001b[0m\n\u001b[1;32m     56\u001b[0m \u001b[0;34m\u001b[0m\u001b[0m\n\u001b[0;32m---> 57\u001b[0;31m         \u001b[0mg\u001b[0m \u001b[0;34m=\u001b[0m \u001b[0mHF\u001b[0m\u001b[0;34m.\u001b[0m\u001b[0mget_grasp\u001b[0m\u001b[0;34m(\u001b[0m\u001b[0;34m'./catkin_ws/GraspOutput.csv'\u001b[0m\u001b[0;34m)\u001b[0m\u001b[0;34m\u001b[0m\u001b[0m\n\u001b[0m\u001b[1;32m     58\u001b[0m \u001b[0;34m\u001b[0m\u001b[0m\n\u001b[1;32m     59\u001b[0m         \u001b[0mpos_error\u001b[0m \u001b[0;34m=\u001b[0m \u001b[0mg\u001b[0m\u001b[0;34m[\u001b[0m\u001b[0;36m0\u001b[0m\u001b[0;34m:\u001b[0m\u001b[0;36m3\u001b[0m\u001b[0;34m]\u001b[0m\u001b[0;34m\u001b[0m\u001b[0m\n",
      "\u001b[0;32mHF.pyc\u001b[0m in \u001b[0;36mget_grasp\u001b[0;34m(grasp_file)\u001b[0m\n\u001b[1;32m     31\u001b[0m     \u001b[0mc_x\u001b[0m \u001b[0;34m=\u001b[0m \u001b[0;36m240.5\u001b[0m\u001b[0;34m\u001b[0m\u001b[0m\n\u001b[1;32m     32\u001b[0m     \u001b[0mc_y\u001b[0m \u001b[0;34m=\u001b[0m \u001b[0;36m320.5\u001b[0m\u001b[0;34m\u001b[0m\u001b[0m\n\u001b[0;32m---> 33\u001b[0;31m \u001b[0;34m\u001b[0m\u001b[0m\n\u001b[0m\u001b[1;32m     34\u001b[0m     \u001b[0mdepth\u001b[0m\u001b[0;34m=\u001b[0m\u001b[0;36m0.2\u001b[0m\u001b[0;34m\u001b[0m\u001b[0m\n\u001b[1;32m     35\u001b[0m     \u001b[0;31m#Transforming grasp from 2D image space to 3D camera space\u001b[0m\u001b[0;34m\u001b[0m\u001b[0;34m\u001b[0m\u001b[0m\n",
      "\u001b[0;31mIndexError\u001b[0m: list index out of range"
     ]
    }
   ],
   "source": [
    "import time\n",
    "def main():\n",
    "    \n",
    "    robot = hsrb_interface.Robot()\n",
    "    omni_base = robot.get('omni_base')\n",
    "    whole_body = robot.get('whole_body')\n",
    "    gripper = robot.get('gripper')\n",
    "    tts = robot.get('default_tts')\n",
    "\n",
    "    \n",
    "    #rospy.init_node('hand_camera')\n",
    "    try:\n",
    "        hand_camera = HandCameraImage()\n",
    "        spin_rate = rospy.Rate(30)\n",
    "\n",
    "        rgb_image = hand_camera._rgb_image\n",
    "        plt.imsave('./MiDaS/input/rgb.png',rgb_image)\n",
    "        #cv2.imshow(\"Hand Camera Image\", rgb_image)\n",
    "            \n",
    "        #Produce depth from rgb image\n",
    "        t = time.time()\n",
    "        ! python ./MiDaS/run.py\n",
    "        e = time.time()\n",
    "        print(e-t)\n",
    "        #Produce grasp from depth\n",
    "        #os.chdir('/home/orlandothefraser/catkin_ws')\n",
    "        t = time.time()\n",
    "        ! python ./ggcnn/Depth2Grasp.py --network ./ggcnn/ggcnn_weights_cornell/ggcnn_epoch_23_cornell --input_depth_path ./MiDaS/output/rgb.png --input_rgb_path ./MiDaS/input/rgb.png --vis \n",
    "        e = time.time()\n",
    "        print(e-t)\n",
    "        g = HF.get_grasp('./GraspOutput.csv')\n",
    "            \n",
    "        pos_error = g[0:3]\n",
    "            \n",
    "        step_vector = pos_error\n",
    "    \n",
    "        distance = (step_vector[0]**2+step_vector[1]**2)**0.5\n",
    "        direction = (1/distance)*step_vector\n",
    "            \n",
    "        whole_body.move_end_effector_by_line((direction[1], direction[0], 0), distance)\n",
    "            \n",
    "        current_ang = 0\n",
    "        ang_change = g[3]\n",
    "        new_ang = current_ang - ang_change\n",
    "        whole_body.move_to_joint_positions({'wrist_roll_joint': new_ang})\n",
    "            \n",
    "            \n",
    "        rgb_image = hand_camera._rgb_image\n",
    "        plt.imsave('./MiDaS/input/rgb.png',rgb_image)\n",
    "        #cv2.imshow(\"Hand Camera Image\", rgb_image)\n",
    "            \n",
    "        #Produce depth from rgb image\n",
    "        ! python ./MiDaS/run.py\n",
    "        #Produce grasp from depth\n",
    "        ! python ./ggcnn/Depth2Grasp.py --network ./ggcnn/ggcnn_weights_cornell/ggcnn_epoch_23_cornell --input_depth_path ./MiDaS/output/rgb.png --input_rgb_path ./MiDaS/input/rgb.png --vis\n",
    "            \n",
    "        g = HF.get_grasp('./GraspOutput.csv')\n",
    "            \n",
    "        pos_error = g[0:3]\n",
    "        \n",
    "        #we dont want to go the entire way as there needs to be space for the object. 0.7 worked fairly wel\n",
    "        step_vector = 0.7*pos_error\n",
    "    \n",
    "        distance = (step_vector[0]**2+step_vector[1]**2+step_vector[2]**2)**0.5\n",
    "        direction = (1/distance)*step_vector\n",
    "            \n",
    "        whole_body.move_end_effector_by_line((direction[1], direction[0], direction[2]), distance)\n",
    "            \n",
    "        #width - add 1mm each side\n",
    "        #gripper_width= g[4]+0.01\n",
    "        #gripper.set_distance(gripper_width)\n",
    "            \n",
    "        gripper.apply_force(1.0)\n",
    "            \n",
    "        whole_body.move_to_joint_positions({'arm_lift_joint': 0.5})\n",
    "            \n",
    "        #cv2.waitKey(3)\n",
    "        #spin_rate.sleep()\n",
    "        \n",
    "        print('test complete!')\n",
    "            \n",
    "\n",
    "    except rospy.ROSException as wait_for_msg_exception:\n",
    "        rospy.logerr(wait_for_msg_exception)\n",
    "\n",
    "    cv2.destroyAllWindows()\n",
    "\n",
    "if __name__ == '__main__':\n",
    "    main()\n",
    "    \n"
   ]
  },
  {
   "cell_type": "code",
   "execution_count": 9,
   "metadata": {},
   "outputs": [
    {
     "name": "stdout",
     "output_type": "stream",
     "text": [
      "/home/orlandothefraser/robot-grasp-detection_git\r\n"
     ]
    }
   ],
   "source": [
    "! pwd"
   ]
  },
  {
   "cell_type": "code",
   "execution_count": null,
   "metadata": {},
   "outputs": [],
   "source": []
  }
 ],
 "metadata": {
  "kernelspec": {
   "display_name": "Python 2",
   "language": "python",
   "name": "python2"
  },
  "language_info": {
   "codemirror_mode": {
    "name": "ipython",
    "version": 2
   },
   "file_extension": ".py",
   "mimetype": "text/x-python",
   "name": "python",
   "nbconvert_exporter": "python",
   "pygments_lexer": "ipython2",
   "version": "2.7.18"
  }
 },
 "nbformat": 4,
 "nbformat_minor": 2
}
